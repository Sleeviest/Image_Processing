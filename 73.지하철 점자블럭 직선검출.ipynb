{
 "cells": [
  {
   "cell_type": "code",
   "execution_count": 1,
   "metadata": {},
   "outputs": [
    {
     "name": "stdout",
     "output_type": "stream",
     "text": [
      "Requirement already satisfied: opencv-python in c:\\users\\rkdwn\\anaconda3\\lib\\site-packages (4.5.1.48)\n",
      "Requirement already satisfied: numpy>=1.17.3 in c:\\users\\rkdwn\\anaconda3\\lib\\site-packages (from opencv-python) (1.19.5)\n"
     ]
    }
   ],
   "source": [
    "import cv2\n",
    "import numpy as np\n",
    "!pip install opencv-python"
   ]
  },
  {
   "cell_type": "code",
   "execution_count": 6,
   "metadata": {},
   "outputs": [],
   "source": [
    "cap = cv2.VideoCapture('station4.avi')\n",
    "\n",
    "if not cap.isOpened():\n",
    "    print(\"Video open failed!\")\n",
    "else :    \n",
    "    #이미지 프레임 사이즈값을 받습니다.\n",
    "    w = round(cap.get(cv2.CAP_PROP_FRAME_WIDTH))\n",
    "    h = round(cap.get(cv2.CAP_PROP_FRAME_HEIGHT))\n",
    "    #전체 프레임 수값을 받습니다.\n",
    "    frame_cnt = round(cap.get(cv2.CAP_PROP_FRAME_COUNT))\n",
    "    #초당 프레임 값을받습니다.\n",
    "    fps = cap.get(cv2.CAP_PROP_FPS)\n",
    "    #한 프레임당 걸리는 시간을 받습니다.\n",
    "    delay = int(1000 / fps)\n",
    "    #영상을 저장할 코덱정보를 저장합니다.\n",
    "    fourcc = cv2.VideoWriter_fourcc(*'DIVX') # *'DIVX' == 'D', 'I', 'V', 'X'\n",
    "    #영상을 저장할 이름을 지정합니다.\n",
    "    outputVideo = cv2.VideoWriter('stationOutput.avi', fourcc, fps, (w, h))\n",
    "    \n",
    "    \n",
    "    #전체 프레임까지 영상 루프를 돌립니다.\n",
    "    for i in range(frame_cnt): \n",
    "        ret, frame = cap.read()\n",
    "        \n",
    "        \n",
    "        if not ret:  break\n",
    "        label='%d'%(i)\n",
    "        \n",
    "        frame = cv2.inRange(frame, (0, 150, 150), (150, 255, 255))#Yellow RGB 로 설정\n",
    "        \n",
    "        lines = cv2.HoughLinesP(frame, 1, np.pi / 180., 160, minLineLength=300, maxLineGap=5)\n",
    "        #1번째 인자 : edges\n",
    "        #2번째 인자 : rho로 1픽셀간격으로 한다. 보통 기본값\n",
    "        #3번째 인자 : 각도는 1도단위. 보통 기본값\n",
    "        #4번째 인자 : threshold는 160정도\n",
    "        #5번째 인자 : 최소길이 50\n",
    "        #6번째 인자 : 5픽셀정도는 떨어져도 이어라\n",
    "        \n",
    "        frame=cv2.cvtColor(frame,cv2.COLOR_GRAY2BGR)#다시 컬러영상으로 변환. 저장하기 위해 실제로는 할필요없음\n",
    "        frame = cv2.GaussianBlur(frame, (0, 0), 1) #노이즈 완화\n",
    "        \n",
    "        if lines is not None:#혹시 라인이 하나도 검출이 안될수 있다.\n",
    "            for j in range(lines.shape[0]):#shape의 첫번째가 직선성분의 개수\n",
    "                pt1 = (lines[j][0][0], lines[j][0][1])  # 시작점 좌표 x,y\n",
    "                pt2 = (lines[j][0][2], lines[j][0][3])  # 끝점 좌표 x,y\n",
    "                #가운데 인자는 무조건 0이다. 더미개념\n",
    "                cv2.line(frame, pt1, pt2, (0, 0, 255), 2, cv2.LINE_AA)\n",
    "\n",
    "        #좌표는 (X,Y 임을 잊지맙시다)\n",
    "        frame=cv2.putText(frame,label , (20, 30), cv2.FONT_HERSHEY_SIMPLEX, 1, (0, 0, 255))\n",
    "        cv2.imshow('', frame)\n",
    "            \n",
    "        outputVideo.write(frame)\n",
    "        #프레임당 기존의 딜레이를 줍니다.\n",
    "        cv2.waitKey(delay)\n",
    "    \n",
    "        \n",
    "\n",
    "        if cv2.waitKey(10) == 27:  break   # ESC\n",
    "\n",
    "outputVideo.release()\n",
    "cap.release()\n",
    "cv2.destroyAllWindows()"
   ]
  },
  {
   "cell_type": "code",
   "execution_count": null,
   "metadata": {},
   "outputs": [],
   "source": []
  }
 ],
 "metadata": {
  "kernelspec": {
   "display_name": "Python 3",
   "language": "python",
   "name": "python3"
  },
  "language_info": {
   "codemirror_mode": {
    "name": "ipython",
    "version": 3
   },
   "file_extension": ".py",
   "mimetype": "text/x-python",
   "name": "python",
   "nbconvert_exporter": "python",
   "pygments_lexer": "ipython3",
   "version": "3.8.5"
  }
 },
 "nbformat": 4,
 "nbformat_minor": 4
}
